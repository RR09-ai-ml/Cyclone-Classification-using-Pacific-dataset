{
 "cells": [
  {
   "cell_type": "code",
   "execution_count": 1,
   "id": "aa1522e8-94cc-4489-9b9b-c2a174937f80",
   "metadata": {},
   "outputs": [],
   "source": [
    "import pandas as pd\n",
    "from sklearn.model_selection import train_test_split\n",
    "from sklearn.ensemble import RandomForestRegressor\n",
    "from sklearn.metrics import mean_squared_error\n",
    "from sklearn.preprocessing import LabelEncoder\n",
    "\n",
    "# Load the dataset\n",
    "file_path = 'pacific.csv/pacific.csv'\n",
    "data = pd.read_csv(file_path)\n",
    "\n",
    "# Data Preprocessing\n",
    "# Convert latitude and longitude to numeric (remove 'N', 'S', 'E', 'W')\n",
    "data['Latitude'] = data['Latitude'].str.replace(r'[^\\d.]', '', regex=True).astype(float)\n",
    "data['Longitude'] = data['Longitude'].str.replace(r'[^\\d.]', '', regex=True).astype(float)"
   ]
  },
  {
   "cell_type": "code",
   "execution_count": 2,
   "id": "54b76dc2-5bd2-42bf-a634-671e6ecc8949",
   "metadata": {},
   "outputs": [
    {
     "name": "stdout",
     "output_type": "stream",
     "text": [
      "Missing Values in column ID =  0\n",
      "Missing Values in column Name =  0\n",
      "Missing Values in column Date =  0\n",
      "Missing Values in column Time =  0\n",
      "Missing Values in column Event =  0\n",
      "Missing Values in column Status =  0\n",
      "Missing Values in column Latitude =  0\n",
      "Missing Values in column Longitude =  0\n",
      "Missing Values in column Maximum Wind =  0\n",
      "Missing Values in column Minimum Pressure =  12804\n",
      "Missing Values in column Low Wind NE =  19750\n",
      "Missing Values in column Low Wind SE =  19750\n",
      "Missing Values in column Low Wind SW =  19750\n",
      "Missing Values in column Low Wind NW =  19750\n",
      "Missing Values in column Moderate Wind NE =  19750\n",
      "Missing Values in column Moderate Wind SE =  19750\n",
      "Missing Values in column Moderate Wind SW =  19750\n",
      "Missing Values in column Moderate Wind NW =  19750\n",
      "Missing Values in column High Wind NE =  19750\n",
      "Missing Values in column High Wind SE =  19750\n",
      "Missing Values in column High Wind SW =  19750\n",
      "Missing Values in column High Wind NW =  19750\n"
     ]
    }
   ],
   "source": [
    "# Handling missing values by filling with median values\n",
    "# data.fillna(data.median(), inplace=True)\n",
    "\n",
    "# Show the count of missing values and fill them with mean.\n",
    "for column in data.columns:\n",
    "    missing_cnt = data[column][data[column] == -999].count()\n",
    "    print('Missing Values in column {col} = '.format(col = column) , missing_cnt )\n",
    "    if missing_cnt!= 0:\n",
    "#         print('in ' , column)\n",
    "        mean = round(data[column][data[column] != -999 ].mean())\n",
    "#         print(\"mean\",mean)\n",
    "        index = data.loc[data[column] == -999 , column].index\n",
    "#         print(\"index\" , index )\n",
    "        data.loc[data[column] == -999 , column] = mean\n",
    "#         print(df.loc[index , column])"
   ]
  },
  {
   "cell_type": "code",
   "execution_count": 3,
   "id": "0a242559-70af-47eb-92bf-781745624677",
   "metadata": {},
   "outputs": [],
   "source": [
    "# Encode categorical variables like 'Event' and 'Status'\n",
    "label_encoder = LabelEncoder()\n",
    "data['Event'] = label_encoder.fit_transform(data['Event'])\n",
    "data['Status'] = label_encoder.fit_transform(data['Status'])\n",
    "\n",
    "\n",
    "# Feature Selection: Choose relevant features for prediction\n",
    "features = data[['Latitude', 'Longitude', 'Minimum Pressure', 'Low Wind NE', 'Low Wind SE', 'Low Wind SW', 'Low Wind NW', 'Event', 'Status']]\n",
    "target = data['Maximum Wind']\n",
    "\n",
    "# Split the data into training and testing sets (80% training, 20% testing)\n",
    "X_train, X_test, y_train, y_test = train_test_split(features, target, test_size=0.2, random_state=42)"
   ]
  },
  {
   "cell_type": "code",
   "execution_count": 9,
   "id": "47e2c43d-e30c-4a1b-aa02-7f2ff2d0cf8d",
   "metadata": {},
   "outputs": [
    {
     "name": "stdout",
     "output_type": "stream",
     "text": [
      "X train        Latitude  Longitude  Minimum Pressure  Low Wind NE  Low Wind SE  \\\n",
      "4634       20.6      105.4               995           40           35   \n",
      "15273      16.2      103.4               985           40           35   \n",
      "4475       16.2      114.5               995           40           35   \n",
      "24451      23.6      108.1               989           40           40   \n",
      "2546       14.5      109.2               995           40           35   \n",
      "...         ...        ...               ...          ...          ...   \n",
      "21575      18.0      130.3              1011            0            0   \n",
      "5390       22.0      123.0               995           40           35   \n",
      "860        21.3      121.2               995           40           35   \n",
      "15795      16.3      166.3               995           40           35   \n",
      "23654      15.6      135.4              1004           60            0   \n",
      "\n",
      "       Low Wind SW  Low Wind NW  Event  Status  \n",
      "4634            27           35      0       1  \n",
      "15273           27           35      0       3  \n",
      "4475            27           35      0      11  \n",
      "24451           20           30      0      11  \n",
      "2546            27           35      0      11  \n",
      "...            ...          ...    ...     ...  \n",
      "21575            0            0      0       5  \n",
      "5390            27           35      0      10  \n",
      "860             27           35      0       3  \n",
      "15795           27           35      0       3  \n",
      "23654            0           50      0      11  \n",
      "\n",
      "[20909 rows x 9 columns]\n",
      "X test        Latitude  Longitude  Minimum Pressure  Low Wind NE  Low Wind SE  \\\n",
      "19382      15.7      101.8              1008           40           35   \n",
      "1588       16.0      102.7               995           40           35   \n",
      "11537      19.9      120.1               995           40           35   \n",
      "18305      22.1      110.6               991           40           35   \n",
      "1972       22.8      109.3               995           40           35   \n",
      "...         ...        ...               ...          ...          ...   \n",
      "3821       23.6      111.9               995           40           35   \n",
      "10656      18.5      141.9               995           40           35   \n",
      "13697      12.3       98.4              1010           40           35   \n",
      "22744      23.8      114.3               999            0            0   \n",
      "24521      15.7      102.0               978           50           50   \n",
      "\n",
      "       Low Wind SW  Low Wind NW  Event  Status  \n",
      "19382           27           35      0       5  \n",
      "1588            27           35      0       3  \n",
      "11537           27           35      0       3  \n",
      "18305           27           35      0      11  \n",
      "1972            27           35      0       3  \n",
      "...            ...          ...    ...     ...  \n",
      "3821            27           35      0      11  \n",
      "10656           27           35      0       3  \n",
      "13697           27           35      0      10  \n",
      "22744            0            0      0       5  \n",
      "24521           20           50      0       3  \n",
      "\n",
      "[5228 rows x 9 columns]\n",
      "y train 4634      25\n",
      "15273     65\n",
      "4475      45\n",
      "24451     55\n",
      "2546      45\n",
      "        ... \n",
      "21575     20\n",
      "5390      30\n",
      "860       75\n",
      "15795    100\n",
      "23654     35\n",
      "Name: Maximum Wind, Length: 20909, dtype: int64\n",
      "y test 19382     25\n",
      "1588      90\n",
      "11537     90\n",
      "18305     60\n",
      "1972      75\n",
      "        ... \n",
      "3821      35\n",
      "10656    125\n",
      "13697     25\n",
      "22744     30\n",
      "24521     80\n",
      "Name: Maximum Wind, Length: 5228, dtype: int64\n"
     ]
    }
   ],
   "source": [
    "print(\"X train\", X_train)\n",
    "print(\"X test\", X_test)\n",
    "print(\"y train\", y_train)\n",
    "print(\"y test\", y_test)"
   ]
  },
  {
   "cell_type": "code",
   "execution_count": 5,
   "id": "7c5b7659-de1a-4b7a-9f9f-08fa44faaba4",
   "metadata": {
    "scrolled": true
   },
   "outputs": [
    {
     "name": "stderr",
     "output_type": "stream",
     "text": [
      "C:\\Users\\Rakesh\\AppData\\Local\\Programs\\Python\\Python312\\Lib\\site-packages\\sklearn\\ensemble\\_forest.py:615: UserWarning: Some inputs do not have OOB scores. This probably means too few trees were used to compute any reliable OOB estimates.\n",
      "  warn(\n"
     ]
    },
    {
     "name": "stdout",
     "output_type": "stream",
     "text": [
      "Obb Score for 10 trees: and taking top five features  0.510593524319671\n"
     ]
    },
    {
     "name": "stderr",
     "output_type": "stream",
     "text": [
      "C:\\Users\\Rakesh\\AppData\\Local\\Programs\\Python\\Python312\\Lib\\site-packages\\sklearn\\ensemble\\_forest.py:615: UserWarning: Some inputs do not have OOB scores. This probably means too few trees were used to compute any reliable OOB estimates.\n",
      "  warn(\n"
     ]
    },
    {
     "name": "stdout",
     "output_type": "stream",
     "text": [
      "Obb Score for 10 trees: and taking all the features  0.5077239466258548\n"
     ]
    },
    {
     "name": "stderr",
     "output_type": "stream",
     "text": [
      "C:\\Users\\Rakesh\\AppData\\Local\\Programs\\Python\\Python312\\Lib\\site-packages\\sklearn\\ensemble\\_forest.py:615: UserWarning: Some inputs do not have OOB scores. This probably means too few trees were used to compute any reliable OOB estimates.\n",
      "  warn(\n"
     ]
    },
    {
     "name": "stdout",
     "output_type": "stream",
     "text": [
      "Obb Score for 20 trees: and taking top five features  0.5386197331292745\n"
     ]
    },
    {
     "name": "stderr",
     "output_type": "stream",
     "text": [
      "C:\\Users\\Rakesh\\AppData\\Local\\Programs\\Python\\Python312\\Lib\\site-packages\\sklearn\\ensemble\\_forest.py:615: UserWarning: Some inputs do not have OOB scores. This probably means too few trees were used to compute any reliable OOB estimates.\n",
      "  warn(\n"
     ]
    },
    {
     "name": "stdout",
     "output_type": "stream",
     "text": [
      "Obb Score for 20 trees: and taking all the features  0.536706681333397\n",
      "Obb Score for 50 trees: and taking top five features  0.5517719642259314\n",
      "Obb Score for 50 trees: and taking all the features  0.5534458845473241\n",
      "Obb Score for 100 trees: and taking top five features  0.5569850303696973\n",
      "Obb Score for 100 trees: and taking all the features  0.5555502415227892\n",
      "Obb Score for 200 trees: and taking top five features  0.5614328757951121\n",
      "Obb Score for 200 trees: and taking all the features  0.5606676550767612\n",
      "Obb Score for 500 trees: and taking top five features  0.5624372279879478\n",
      "Obb Score for 500 trees: and taking all the features  0.5612415706155244\n",
      "Obb Score for 1000 trees: and taking top five features  0.5601893921277918\n",
      "Obb Score for 1000 trees: and taking all the features  0.5621502702185661\n",
      "Obb Score for 1200 trees: and taking top five features  0.5617676598593907\n",
      "Obb Score for 1200 trees: and taking all the features  0.5611459180257306\n"
     ]
    }
   ],
   "source": [
    "                                                                # Train using random forest\n",
    "from sklearn.ensemble import RandomForestClassifier\n",
    "# Here instead of cross validation we will be using oob score as a measure of accuracy.\n",
    "# I will hyper tuning the parameter: No of Trees.\n",
    "\n",
    "trees  = [10, 20 , 50, 100,200,500,1000,1200]\n",
    "maxn_five = {}\n",
    "maxn = {}\n",
    "for i in trees:\n",
    "    rf = RandomForestClassifier(n_estimators=i , oob_score=True)\n",
    "    rf.fit(X_train , y_train)\n",
    "    print('Obb Score for {x} trees: and taking top five features '.format(x = i) , rf.oob_score_)\n",
    "    maxn_five[i] = rf.oob_score_\n",
    "    rf.fit(X_train , y_train)\n",
    "    print('Obb Score for {x} trees: and taking all the features '.format(x = i) , rf.oob_score_)\n",
    "    maxn[i] = rf.oob_score_"
   ]
  },
  {
   "cell_type": "code",
   "execution_count": 10,
   "id": "45f22c93-31f3-4f90-bca6-443d37df1202",
   "metadata": {},
   "outputs": [
    {
     "ename": "KeyError",
     "evalue": "'None of [RangeIndex(start=0, stop=5, step=1)] are in the [columns]'",
     "output_type": "error",
     "traceback": [
      "\u001b[1;31m---------------------------------------------------------------------------\u001b[0m",
      "\u001b[1;31mKeyError\u001b[0m                                  Traceback (most recent call last)",
      "Cell \u001b[1;32mIn[10], line 15\u001b[0m\n\u001b[0;32m     13\u001b[0m rf \u001b[38;5;241m=\u001b[39m RandomForestClassifier(oob_score\u001b[38;5;241m=\u001b[39m\u001b[38;5;28;01mTrue\u001b[39;00m , n_estimators\u001b[38;5;241m=\u001b[39mn)\n\u001b[0;32m     14\u001b[0m rf\u001b[38;5;241m.\u001b[39mfit(x_trains , y_trains)\n\u001b[1;32m---> 15\u001b[0m y_pred_rf \u001b[38;5;241m=\u001b[39m rf\u001b[38;5;241m.\u001b[39mpredict(\u001b[43mx_tests\u001b[49m\u001b[43m[\u001b[49m\u001b[43mfeatures\u001b[49m\u001b[38;5;241;43m.\u001b[39;49m\u001b[43mindex\u001b[49m\u001b[43m[\u001b[49m\u001b[43m:\u001b[49m\u001b[38;5;241;43m5\u001b[39;49m\u001b[43m]\u001b[49m\u001b[43m]\u001b[49m)\n\u001b[0;32m     16\u001b[0m scores_rf \u001b[38;5;241m=\u001b[39m {\u001b[38;5;124m'\u001b[39m\u001b[38;5;124maccuracy\u001b[39m\u001b[38;5;124m'\u001b[39m: accuracy_score(y_tests , y_pred_rf) ,\u001b[38;5;124m'\u001b[39m\u001b[38;5;124mrecall\u001b[39m\u001b[38;5;124m'\u001b[39m : recall_score(y_tests , y_pred_rf , average\u001b[38;5;241m=\u001b[39m\u001b[38;5;124m'\u001b[39m\u001b[38;5;124mweighted\u001b[39m\u001b[38;5;124m'\u001b[39m) ,\u001b[38;5;124m'\u001b[39m\u001b[38;5;124mprecision\u001b[39m\u001b[38;5;124m'\u001b[39m : precision_score(y_tests , y_pred_rf , average\u001b[38;5;241m=\u001b[39m\u001b[38;5;124m'\u001b[39m\u001b[38;5;124mweighted\u001b[39m\u001b[38;5;124m'\u001b[39m) }\n\u001b[0;32m     17\u001b[0m \u001b[38;5;28mprint\u001b[39m(\u001b[38;5;124m'\u001b[39m\u001b[38;5;124mScores for Random Forest with n = \u001b[39m\u001b[38;5;124m'\u001b[39m , n , \u001b[38;5;124m'\u001b[39m\u001b[38;5;124m and using features \u001b[39m\u001b[38;5;124m'\u001b[39m,  features\u001b[38;5;241m.\u001b[39mindex[:\u001b[38;5;241m5\u001b[39m] , \u001b[38;5;124m'\u001b[39m\u001b[38;5;124m are : \u001b[39m\u001b[38;5;124m'\u001b[39m)\n",
      "File \u001b[1;32m~\\AppData\\Local\\Programs\\Python\\Python312\\Lib\\site-packages\\pandas\\core\\frame.py:4108\u001b[0m, in \u001b[0;36mDataFrame.__getitem__\u001b[1;34m(self, key)\u001b[0m\n\u001b[0;32m   4106\u001b[0m     \u001b[38;5;28;01mif\u001b[39;00m is_iterator(key):\n\u001b[0;32m   4107\u001b[0m         key \u001b[38;5;241m=\u001b[39m \u001b[38;5;28mlist\u001b[39m(key)\n\u001b[1;32m-> 4108\u001b[0m     indexer \u001b[38;5;241m=\u001b[39m \u001b[38;5;28;43mself\u001b[39;49m\u001b[38;5;241;43m.\u001b[39;49m\u001b[43mcolumns\u001b[49m\u001b[38;5;241;43m.\u001b[39;49m\u001b[43m_get_indexer_strict\u001b[49m\u001b[43m(\u001b[49m\u001b[43mkey\u001b[49m\u001b[43m,\u001b[49m\u001b[43m \u001b[49m\u001b[38;5;124;43m\"\u001b[39;49m\u001b[38;5;124;43mcolumns\u001b[39;49m\u001b[38;5;124;43m\"\u001b[39;49m\u001b[43m)\u001b[49m[\u001b[38;5;241m1\u001b[39m]\n\u001b[0;32m   4110\u001b[0m \u001b[38;5;66;03m# take() does not accept boolean indexers\u001b[39;00m\n\u001b[0;32m   4111\u001b[0m \u001b[38;5;28;01mif\u001b[39;00m \u001b[38;5;28mgetattr\u001b[39m(indexer, \u001b[38;5;124m\"\u001b[39m\u001b[38;5;124mdtype\u001b[39m\u001b[38;5;124m\"\u001b[39m, \u001b[38;5;28;01mNone\u001b[39;00m) \u001b[38;5;241m==\u001b[39m \u001b[38;5;28mbool\u001b[39m:\n",
      "File \u001b[1;32m~\\AppData\\Local\\Programs\\Python\\Python312\\Lib\\site-packages\\pandas\\core\\indexes\\base.py:6200\u001b[0m, in \u001b[0;36mIndex._get_indexer_strict\u001b[1;34m(self, key, axis_name)\u001b[0m\n\u001b[0;32m   6197\u001b[0m \u001b[38;5;28;01melse\u001b[39;00m:\n\u001b[0;32m   6198\u001b[0m     keyarr, indexer, new_indexer \u001b[38;5;241m=\u001b[39m \u001b[38;5;28mself\u001b[39m\u001b[38;5;241m.\u001b[39m_reindex_non_unique(keyarr)\n\u001b[1;32m-> 6200\u001b[0m \u001b[38;5;28;43mself\u001b[39;49m\u001b[38;5;241;43m.\u001b[39;49m\u001b[43m_raise_if_missing\u001b[49m\u001b[43m(\u001b[49m\u001b[43mkeyarr\u001b[49m\u001b[43m,\u001b[49m\u001b[43m \u001b[49m\u001b[43mindexer\u001b[49m\u001b[43m,\u001b[49m\u001b[43m \u001b[49m\u001b[43maxis_name\u001b[49m\u001b[43m)\u001b[49m\n\u001b[0;32m   6202\u001b[0m keyarr \u001b[38;5;241m=\u001b[39m \u001b[38;5;28mself\u001b[39m\u001b[38;5;241m.\u001b[39mtake(indexer)\n\u001b[0;32m   6203\u001b[0m \u001b[38;5;28;01mif\u001b[39;00m \u001b[38;5;28misinstance\u001b[39m(key, Index):\n\u001b[0;32m   6204\u001b[0m     \u001b[38;5;66;03m# GH 42790 - Preserve name from an Index\u001b[39;00m\n",
      "File \u001b[1;32m~\\AppData\\Local\\Programs\\Python\\Python312\\Lib\\site-packages\\pandas\\core\\indexes\\base.py:6249\u001b[0m, in \u001b[0;36mIndex._raise_if_missing\u001b[1;34m(self, key, indexer, axis_name)\u001b[0m\n\u001b[0;32m   6247\u001b[0m \u001b[38;5;28;01mif\u001b[39;00m nmissing:\n\u001b[0;32m   6248\u001b[0m     \u001b[38;5;28;01mif\u001b[39;00m nmissing \u001b[38;5;241m==\u001b[39m \u001b[38;5;28mlen\u001b[39m(indexer):\n\u001b[1;32m-> 6249\u001b[0m         \u001b[38;5;28;01mraise\u001b[39;00m \u001b[38;5;167;01mKeyError\u001b[39;00m(\u001b[38;5;124mf\u001b[39m\u001b[38;5;124m\"\u001b[39m\u001b[38;5;124mNone of [\u001b[39m\u001b[38;5;132;01m{\u001b[39;00mkey\u001b[38;5;132;01m}\u001b[39;00m\u001b[38;5;124m] are in the [\u001b[39m\u001b[38;5;132;01m{\u001b[39;00maxis_name\u001b[38;5;132;01m}\u001b[39;00m\u001b[38;5;124m]\u001b[39m\u001b[38;5;124m\"\u001b[39m)\n\u001b[0;32m   6251\u001b[0m     not_found \u001b[38;5;241m=\u001b[39m \u001b[38;5;28mlist\u001b[39m(ensure_index(key)[missing_mask\u001b[38;5;241m.\u001b[39mnonzero()[\u001b[38;5;241m0\u001b[39m]]\u001b[38;5;241m.\u001b[39munique())\n\u001b[0;32m   6252\u001b[0m     \u001b[38;5;28;01mraise\u001b[39;00m \u001b[38;5;167;01mKeyError\u001b[39;00m(\u001b[38;5;124mf\u001b[39m\u001b[38;5;124m\"\u001b[39m\u001b[38;5;132;01m{\u001b[39;00mnot_found\u001b[38;5;132;01m}\u001b[39;00m\u001b[38;5;124m not in index\u001b[39m\u001b[38;5;124m\"\u001b[39m)\n",
      "\u001b[1;31mKeyError\u001b[0m: 'None of [RangeIndex(start=0, stop=5, step=1)] are in the [columns]'"
     ]
    }
   ],
   "source": [
    "                                                    # Trained using RandomForestClassifier()\n",
    "# Split the data into training and testing.\n",
    "# this is done by using train_test_split() funciton\n",
    "x_trains , x_tests , y_trains, y_tests  = train_test_split(X_train, y_train, test_size=0.33, random_state=42)\n",
    "# Set n to the feature of maximum oob score.\n",
    "\n",
    "n = 0\n",
    "for i in maxn_five:\n",
    "    if max(maxn_five.values()) == maxn_five[i]:\n",
    "        n= i\n",
    "        \n",
    "# Set n_estimators to n.\n",
    "rf = RandomForestClassifier(oob_score=True , n_estimators=n)\n",
    "rf.fit(x_trains , y_trains)\n",
    "y_pred_rf = rf.predict(x_tests[features.index[:5]])\n",
    "scores_rf = {'accuracy': accuracy_score(y_tests , y_pred_rf) ,'recall' : recall_score(y_tests , y_pred_rf , average='weighted') ,'precision' : precision_score(y_tests , y_pred_rf , average='weighted') }\n",
    "print('Scores for Random Forest with n = ' , n , ' and using features ',  features.index[:5] , ' are : ')\n",
    "print('Accuracy: ' , scores_rf['accuracy'])\n",
    "print('Recall: ' , scores_rf['recall'])\n",
    "print('Precision: ' , scores_rf['precision'])"
   ]
  },
  {
   "cell_type": "code",
   "execution_count": 6,
   "id": "6fe22717-221c-47e2-85ce-c09690fd71ed",
   "metadata": {
    "scrolled": true
   },
   "outputs": [
    {
     "name": "stdout",
     "output_type": "stream",
     "text": [
      "Mean Squared Error: 53.20038787427516\n"
     ]
    }
   ],
   "source": [
    "# Model Selection: Random Forest Regressor\n",
    "model = RandomForestRegressor(n_estimators=100, random_state=42)\n",
    "\n",
    "# Train the model\n",
    "model.fit(X_train, y_train)\n",
    "\n",
    "# Make predictions on the test set\n",
    "y_pred = model.predict(X_test)\n",
    "\n",
    "# Evaluate the model\n",
    "mse = mean_squared_error(y_test, y_pred)\n",
    "\n",
    "print(f\"Mean Squared Error: {mse}\")"
   ]
  },
  {
   "cell_type": "code",
   "execution_count": 7,
   "id": "699248f7-22d1-4214-9088-8228cb62d3de",
   "metadata": {},
   "outputs": [
    {
     "name": "stdout",
     "output_type": "stream",
     "text": [
      "R squared is a accuracy for regression model.\n",
      "R-squared: 0.9150228276576952\n"
     ]
    }
   ],
   "source": [
    "# Model Performance: You can also evaluate using other metrics like R-squared, MAE, etc.\n",
    "\n",
    "from sklearn.metrics import r2_score\n",
    "\n",
    "# Make predictions on the test set\n",
    "y_pred = model.predict(X_test)\n",
    "\n",
    "# Calculate R-squared\n",
    "r2 = r2_score(y_test, y_pred)\n",
    "\n",
    "print(\"R squared is a accuracy for regression model.\")\n",
    "# print(\"It indicates how well the model's predictions fit the actual data\\n \\\n",
    "#             R² = 1: Perfect prediction.\\n \\\n",
    "#             R² = 0: The model doesn't explain any variance (as good as a simple mean predictor).\\n \\\n",
    "#             Negative R²: Indicates that the model performs worse than predicting the mean of the target.\\n\")\n",
    "\n",
    "print(f\"R-squared: {r2}\")"
   ]
  }
 ],
 "metadata": {
  "kernelspec": {
   "display_name": "Python 3 (ipykernel)",
   "language": "python",
   "name": "python3"
  },
  "language_info": {
   "codemirror_mode": {
    "name": "ipython",
    "version": 3
   },
   "file_extension": ".py",
   "mimetype": "text/x-python",
   "name": "python",
   "nbconvert_exporter": "python",
   "pygments_lexer": "ipython3",
   "version": "3.12.4"
  }
 },
 "nbformat": 4,
 "nbformat_minor": 5
}
